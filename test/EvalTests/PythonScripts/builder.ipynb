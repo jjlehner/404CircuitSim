{
 "cells": [
  {
   "cell_type": "code",
   "execution_count": 88,
   "metadata": {},
   "outputs": [
    {
     "output_type": "stream",
     "name": "stdout",
     "text": "Overwriting diff.py\n"
    }
   ],
   "source": [
    "%%writefile diff.py\n",
    "import pandas as pd\n",
    "import matplotlib.pyplot as plot\n",
    "\n",
    "def compare(lt,out):\n",
    "    a = pd.read_csv(lt)\n",
    "    b = pd.read_csv(out)\n",
    "    a.set_index('time')\n",
    "    b.set_index('Time')\n",
    "    c = a.copy()\n",
    "    for i in a.columns:\n",
    "        if i == \"time\" or i==\"Time\":\n",
    "            continue\n",
    "        else:\n",
    "            c[i] = abs(a[i]-b[i])\n",
    "    return c\n",
    "\n",
    "\n",
    "a = compare(\"../RC_test/LT.csvs/newR=200,.csv\",\"../RC_test/out.csvs/R=200,.csv\")\n",
    "b = a.plot(kind='scatter',marker='x',x='time',y='V(N001)',color='red')\n",
    "b.grid(color='black', linestyle='-', linewidth=0.4)\n",
    "b.set(xlabel=\"Time /s\", ylabel=\"Error Voltage /V\",title=\"Error Voltage /V Across Resistor vs Time /s\\n for a resistor value of 200Ω\") "
   ]
  }
 ],
 "metadata": {
  "language_info": {
   "codemirror_mode": {
    "name": "ipython",
    "version": 3
   },
   "file_extension": ".py",
   "mimetype": "text/x-python",
   "name": "python",
   "nbconvert_exporter": "python",
   "pygments_lexer": "ipython3",
   "version": "3.8.2-final"
  },
  "orig_nbformat": 2,
  "kernelspec": {
   "name": "python38264bitfc22059568c646c6a1e5bc659c9d5e08",
   "display_name": "Python 3.8.2 64-bit"
  }
 },
 "nbformat": 4,
 "nbformat_minor": 2
}